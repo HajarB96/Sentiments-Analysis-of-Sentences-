{
 "cells": [
  {
   "cell_type": "code",
   "execution_count": 20,
   "id": "26b2aef4",
   "metadata": {},
   "outputs": [],
   "source": [
    "import numpy as np \n",
    "import pandas as pd\n",
    "import tensorflow as tf\n",
    "from tensorflow import keras\n",
    "import matplotlib\n",
    "import matplotlib.pyplot as plt\n",
    "import seaborn as sns"
   ]
  },
  {
   "cell_type": "code",
   "execution_count": 21,
   "id": "b2648aeb",
   "metadata": {},
   "outputs": [],
   "source": [
    "train = pd.read_csv('C:\\\\Users\\\\hajar\\\\Documents\\\\Data2\\\\training2.csv')\n",
    "validation = pd.read_csv('C:\\\\Users\\\\hajar\\\\Documents\\\\Data2\\\\validation2.csv')\n",
    "test = pd.read_csv('C:\\\\Users\\\\hajar\\\\Documents\\\\Data2\\\\test2.csv')"
   ]
  },
  {
   "cell_type": "code",
   "execution_count": 22,
   "id": "38b4b233",
   "metadata": {},
   "outputs": [
    {
     "name": "stdout",
     "output_type": "stream",
     "text": [
      "                                                text  label\n",
      "0                            i didnt feel humiliated      0\n",
      "1  i can go from feeling so hopeless to so damned...      0\n",
      "2   im grabbing a minute to post i feel greedy wrong      3\n",
      "3  i am ever feeling nostalgic about the fireplac...      2\n",
      "4                               i am feeling grouchy      3\n",
      "                                                text  label\n",
      "0  im feeling quite sad and sorry for myself but ...      0\n",
      "1  i feel like i am still looking at a blank canv...      0\n",
      "2                     i feel like a faithful servant      2\n",
      "3                  i am just feeling cranky and blue      3\n",
      "4  i can have for a treat or if i am feeling festive      1\n",
      "                                                text  label\n",
      "0  im feeling rather rotten so im not very ambiti...      0\n",
      "1          im updating my blog because i feel shitty      0\n",
      "2  i never make her separate from me because i do...      0\n",
      "3  i left with my bouquet of red and yellow tulip...      1\n",
      "4    i was feeling a little vain when i did this one      0\n"
     ]
    }
   ],
   "source": [
    "print(train.head())\n",
    "print(validation.head())\n",
    "print(test.head())"
   ]
  },
  {
   "cell_type": "code",
   "execution_count": 23,
   "id": "1a99580a",
   "metadata": {},
   "outputs": [
    {
     "data": {
      "text/html": [
       "<div>\n",
       "<style scoped>\n",
       "    .dataframe tbody tr th:only-of-type {\n",
       "        vertical-align: middle;\n",
       "    }\n",
       "\n",
       "    .dataframe tbody tr th {\n",
       "        vertical-align: top;\n",
       "    }\n",
       "\n",
       "    .dataframe thead th {\n",
       "        text-align: right;\n",
       "    }\n",
       "</style>\n",
       "<table border=\"1\" class=\"dataframe\">\n",
       "  <thead>\n",
       "    <tr style=\"text-align: right;\">\n",
       "      <th></th>\n",
       "      <th>text</th>\n",
       "      <th>label</th>\n",
       "      <th>description</th>\n",
       "    </tr>\n",
       "  </thead>\n",
       "  <tbody>\n",
       "    <tr>\n",
       "      <th>0</th>\n",
       "      <td>i didnt feel humiliated</td>\n",
       "      <td>0</td>\n",
       "      <td>sadness</td>\n",
       "    </tr>\n",
       "    <tr>\n",
       "      <th>1</th>\n",
       "      <td>i can go from feeling so hopeless to so damned...</td>\n",
       "      <td>0</td>\n",
       "      <td>sadness</td>\n",
       "    </tr>\n",
       "    <tr>\n",
       "      <th>2</th>\n",
       "      <td>im grabbing a minute to post i feel greedy wrong</td>\n",
       "      <td>3</td>\n",
       "      <td>anger</td>\n",
       "    </tr>\n",
       "    <tr>\n",
       "      <th>3</th>\n",
       "      <td>i am ever feeling nostalgic about the fireplac...</td>\n",
       "      <td>2</td>\n",
       "      <td>love</td>\n",
       "    </tr>\n",
       "    <tr>\n",
       "      <th>4</th>\n",
       "      <td>i am feeling grouchy</td>\n",
       "      <td>3</td>\n",
       "      <td>anger</td>\n",
       "    </tr>\n",
       "  </tbody>\n",
       "</table>\n",
       "</div>"
      ],
      "text/plain": [
       "                                                text  label description\n",
       "0                            i didnt feel humiliated      0     sadness\n",
       "1  i can go from feeling so hopeless to so damned...      0     sadness\n",
       "2   im grabbing a minute to post i feel greedy wrong      3       anger\n",
       "3  i am ever feeling nostalgic about the fireplac...      2        love\n",
       "4                               i am feeling grouchy      3       anger"
      ]
     },
     "execution_count": 23,
     "metadata": {},
     "output_type": "execute_result"
    }
   ],
   "source": [
    "labels_dict = {0:'sadness', 1:'joy', 2:'love', 3:'anger', 4:'fear'}\n",
    "train['description'] = train['label'].map(labels_dict )\n",
    "train.head()"
   ]
  },
  {
   "cell_type": "code",
   "execution_count": 24,
   "id": "7ff3c1e2",
   "metadata": {},
   "outputs": [
    {
     "data": {
      "text/plain": [
       "joy        0.347550\n",
       "sadness    0.302437\n",
       "anger      0.139940\n",
       "fear       0.125551\n",
       "love       0.084522\n",
       "Name: description, dtype: float64"
      ]
     },
     "execution_count": 24,
     "metadata": {},
     "output_type": "execute_result"
    }
   ],
   "source": [
    "train['description'].value_counts(normalize=True)"
   ]
  },
  {
   "cell_type": "code",
   "execution_count": 25,
   "id": "118d6759",
   "metadata": {},
   "outputs": [
    {
     "data": {
      "image/png": "[encoded data removed]",
      "text/plain": [
       "<Figure size 640x480 with 1 Axes>"
      ]
     },
     "metadata": {},
     "output_type": "display_data"
    }
   ],
   "source": [
    "train['description'].value_counts().plot(kind='bar');\n"
   ]
  },
  {
   "cell_type": "code",
   "execution_count": 26,
   "id": "481941a7",
   "metadata": {},
   "outputs": [
    {
     "name": "stdout",
     "output_type": "stream",
     "text": [
      "!\"#$%&'()*+,-./:;<=>?@[\\]^_`{|}~\n"
     ]
    },
    {
     "name": "stderr",
     "output_type": "stream",
     "text": [
      "[nltk_data] Downloading package stopwords to\n",
      "[nltk_data]     C:\\Users\\hajar\\AppData\\Roaming\\nltk_data...\n",
      "[nltk_data]   Package stopwords is already up-to-date!\n"
     ]
    }
   ],
   "source": [
    "import nltk\n",
    "nltk.download('stopwords')\n",
    "from nltk.corpus import stopwords\n",
    "stopwords.words('english')\n",
    "\n",
    "import string\n",
    "print(string.punctuation)"
   ]
  },
  {
   "cell_type": "code",
   "execution_count": 27,
   "id": "9c16704e",
   "metadata": {},
   "outputs": [],
   "source": [
    "def text_cleaning(text):\n",
    "    punctuation_removed = [char for char in text if char not in string.punctuation]\n",
    "    p_join = ''.join(punctuation_removed)\n",
    "    p_join_clean = [word for word in p_join.split() if word.lower() not in stopwords.words('english')]\n",
    "    return p_join_clean\n",
    "\n"
   ]
  },
  {
   "cell_type": "code",
   "execution_count": null,
   "id": "b825568c",
   "metadata": {},
   "outputs": [],
   "source": []
  },
  {
   "cell_type": "code",
   "execution_count": 28,
   "id": "15d33f86",
   "metadata": {},
   "outputs": [],
   "source": [
    "from tensorflow.keras.preprocessing.text import Tokenizer\n",
    "from tensorflow.keras.preprocessing.sequence import pad_sequences\n"
   ]
  },
  {
   "cell_type": "code",
   "execution_count": 29,
   "id": "3e468055",
   "metadata": {},
   "outputs": [],
   "source": [
    "train= train[train['label'] != 5]\n",
    "validation = validation[validation['label'] != 5]\n",
    "test = test[test['label'] != 5]\n"
   ]
  },
  {
   "cell_type": "code",
   "execution_count": 30,
   "id": "c9e2fc53",
   "metadata": {},
   "outputs": [
    {
     "name": "stdout",
     "output_type": "stream",
     "text": [
      "                                                text  label description  \\\n",
      "0                            i didnt feel humiliated      0     sadness   \n",
      "1  i can go from feeling so hopeless to so damned...      0     sadness   \n",
      "2   im grabbing a minute to post i feel greedy wrong      3       anger   \n",
      "3  i am ever feeling nostalgic about the fireplac...      2        love   \n",
      "4                               i am feeling grouchy      3       anger   \n",
      "\n",
      "                                                list  \n",
      "0                          [didnt, feel, humiliated]  \n",
      "1  [go, feeling, hopeless, damned, hopeful, aroun...  \n",
      "2  [im, grabbing, minute, post, feel, greedy, wrong]  \n",
      "3  [ever, feeling, nostalgic, fireplace, know, st...  \n",
      "4                                 [feeling, grouchy]  \n",
      "                                                text  label  \\\n",
      "0  im feeling quite sad and sorry for myself but ...      0   \n",
      "1  i feel like i am still looking at a blank canv...      0   \n",
      "2                     i feel like a faithful servant      2   \n",
      "3                  i am just feeling cranky and blue      3   \n",
      "4  i can have for a treat or if i am feeling festive      1   \n",
      "\n",
      "                                                list  \n",
      "0  [im, feeling, quite, sad, sorry, ill, snap, soon]  \n",
      "1  [feel, like, still, looking, blank, canvas, bl...  \n",
      "2                    [feel, like, faithful, servant]  \n",
      "3                            [feeling, cranky, blue]  \n",
      "4                          [treat, feeling, festive]  \n"
     ]
    }
   ],
   "source": [
    "# Apply text cleaning function to 'text' column of train and validation dataframes\n",
    "train_claining = train['text'].apply(text_cleaning)\n",
    "validation_claining = validation['text'].apply(text_cleaning)\n",
    "\n",
    "# Add a new column called 'list' to train and validation dataframes\n",
    "train['list'] = train_claining\n",
    "validation['list'] = validation_claining\n",
    "\n",
    "# Print the first 5 rows of both dataframes to verify the changes\n",
    "print(train.head())\n",
    "print(validation.head())"
   ]
  },
  {
   "cell_type": "code",
   "execution_count": 31,
   "id": "e0b57f11",
   "metadata": {},
   "outputs": [
    {
     "name": "stdout",
     "output_type": "stream",
     "text": [
      "['ever', 'feeling', 'nostalgic', 'fireplace', 'know', 'still', 'property']\n",
      "['feeling', 'cranky', 'blue']\n",
      "i left with my bouquet of red and yellow tulips under my arm feeling slightly more optimistic than when i arrived\n",
      "(15428,) (15428,)\n",
      "(1934,) (1934,)\n"
     ]
    }
   ],
   "source": [
    "x_train, y_train = train['list'].values, train['label'].values\n",
    "x_val, y_val = validation['list'].values, validation['label'].values\n",
    "x_test, y_test = test['text'].values, test['label'].values\n",
    "\n",
    "print(x_train[3])\n",
    "print(x_val[3])\n",
    "print(x_test[3])\n",
    "\n",
    "print(x_train.shape,y_train.shape)\n",
    "print(x_test.shape,y_test.shape)\n"
   ]
  },
  {
   "cell_type": "code",
   "execution_count": 32,
   "id": "324f0384",
   "metadata": {},
   "outputs": [],
   "source": [
    "max_features = 2000\n",
    "\n",
    "tokenizer = Tokenizer(num_words=max_features, oov_token=\"<OOV>\")\n",
    "tokenizer.fit_on_texts(x_train)\n",
    "x_train_pad = tokenizer.texts_to_sequences(x_train)\n",
    "x_train_pad = pad_sequences(x_train_pad, padding='post', truncating=\"post\", maxlen=100)\n",
    "\n",
    "vocab_size = len(tokenizer.word_index) + 1\n",
    "\n",
    "x_val_pad = tokenizer.texts_to_sequences(x_val)\n",
    "x_val_pad = pad_sequences(x_val_pad, padding='post', truncating=\"post\", maxlen=100)"
   ]
  },
  {
   "cell_type": "code",
   "execution_count": 33,
   "id": "2c86fd40",
   "metadata": {
    "scrolled": true
   },
   "outputs": [
    {
     "name": "stdout",
     "output_type": "stream",
     "text": [
      "(15428, 100) [ 52   2 546   0   0   0   0   0   0   0   0   0   0   0   0   0   0   0\n",
      "   0   0   0   0   0   0   0   0   0   0   0   0   0   0   0   0   0   0\n",
      "   0   0   0   0   0   0   0   0   0   0   0   0   0   0   0   0   0   0\n",
      "   0   0   0   0   0   0   0   0   0   0   0   0   0   0   0   0   0   0\n",
      "   0   0   0   0   0   0   0   0   0   0   0   0   0   0   0   0   0   0\n",
      "   0   0   0   0   0   0   0   0   0   0]\n",
      "(1919, 100) [  5   3  62 155 225 107   1 436   0   0   0   0   0   0   0   0   0   0\n",
      "   0   0   0   0   0   0   0   0   0   0   0   0   0   0   0   0   0   0\n",
      "   0   0   0   0   0   0   0   0   0   0   0   0   0   0   0   0   0   0\n",
      "   0   0   0   0   0   0   0   0   0   0   0   0   0   0   0   0   0   0\n",
      "   0   0   0   0   0   0   0   0   0   0   0   0   0   0   0   0   0   0\n",
      "   0   0   0   0   0   0   0   0   0   0]\n"
     ]
    }
   ],
   "source": [
    "print(x_train_pad.shape, x_train_pad[0])\n",
    "print(x_val_pad.shape, x_val_pad[0])"
   ]
  },
  {
   "cell_type": "code",
   "execution_count": null,
   "id": "6ecb93e3",
   "metadata": {},
   "outputs": [],
   "source": []
  },
  {
   "cell_type": "code",
   "execution_count": 34,
   "id": "6c7105ca",
   "metadata": {},
   "outputs": [],
   "source": [
    "from tensorflow.keras import Sequential\n",
    "from tensorflow.keras.models import Model\n",
    "from tensorflow.keras import layers, Input\n",
    "from tensorflow.keras.layers import  Flatten, GlobalMaxPooling1D, Dropout, SpatialDropout1D\n",
    "from tensorflow.keras.layers import Embedding, Dense, LSTM, GRU, Conv1D, Bidirectional,  MaxPooling1D"
   ]
  },
  {
   "cell_type": "code",
   "execution_count": null,
   "id": "4c5ac838",
   "metadata": {},
   "outputs": [],
   "source": []
  },
  {
   "cell_type": "code",
   "execution_count": 35,
   "id": "f20d8d80",
   "metadata": {},
   "outputs": [
    {
     "name": "stdout",
     "output_type": "stream",
     "text": [
      "Model: \"sequential_1\"\n",
      "_________________________________________________________________\n",
      " Layer (type)                Output Shape              Param #   \n",
      "=================================================================\n",
      " embedding_1 (Embedding)     (None, 100, 300)          600000    \n",
      "                                                                 \n",
      " bidirectional_1 (Bidirectio  (None, 312)              570336    \n",
      " nal)                                                            \n",
      "                                                                 \n",
      " flatten_1 (Flatten)         (None, 312)               0         \n",
      "                                                                 \n",
      " dense_3 (Dense)             (None, 128)               40064     \n",
      "                                                                 \n",
      " dropout_1 (Dropout)         (None, 128)               0         \n",
      "                                                                 \n",
      " dense_4 (Dense)             (None, 64)                8256      \n",
      "                                                                 \n",
      " dense_5 (Dense)             (None, 5)                 325       \n",
      "                                                                 \n",
      "=================================================================\n",
      "Total params: 1,218,981\n",
      "Trainable params: 1,218,981\n",
      "Non-trainable params: 0\n",
      "_________________________________________________________________\n",
      "None\n"
     ]
    }
   ],
   "source": [
    "embed_dim = 300\n",
    "\n",
    "model1 = Sequential([\n",
    "    Embedding(max_features, embed_dim, input_length=x_train_pad.shape[1]),\n",
    "    Bidirectional(LSTM(156, dropout=0.2)),\n",
    "    Flatten(),\n",
    "    Dense(128, activation = 'relu'),\n",
    "    Dropout(0.2),\n",
    "    Dense(64, activation = 'relu'),\n",
    "    Dense(5, activation = 'softmax')\n",
    "])\n",
    "print(model1.summary())\n",
    "\n",
    "model1.compile(loss = 'categorical_crossentropy', optimizer='adam', metrics = ['accuracy'])"
   ]
  },
  {
   "cell_type": "code",
   "execution_count": 36,
   "id": "636ed0cc",
   "metadata": {},
   "outputs": [
    {
     "name": "stdout",
     "output_type": "stream",
     "text": [
      "Epoch 1/10\n",
      "242/242 [==============================] - 279s 1s/step - loss: 0.9085 - accuracy: 0.6405 - val_loss: 0.3474 - val_accuracy: 0.8885\n",
      "Epoch 2/10\n",
      "242/242 [==============================] - 265s 1s/step - loss: 0.2384 - accuracy: 0.9170 - val_loss: 0.2397 - val_accuracy: 0.9161\n",
      "Epoch 3/10\n",
      "242/242 [==============================] - 250s 1s/step - loss: 0.1463 - accuracy: 0.9450 - val_loss: 0.2145 - val_accuracy: 0.9213\n",
      "Epoch 4/10\n",
      "242/242 [==============================] - 255s 1s/step - loss: 0.1101 - accuracy: 0.9578 - val_loss: 0.2238 - val_accuracy: 0.9224\n",
      "Epoch 5/10\n",
      "242/242 [==============================] - 254s 1s/step - loss: 0.0882 - accuracy: 0.9649 - val_loss: 0.2345 - val_accuracy: 0.9239\n",
      "Epoch 6/10\n",
      "242/242 [==============================] - 254s 1s/step - loss: 0.0741 - accuracy: 0.9710 - val_loss: 0.2683 - val_accuracy: 0.9203\n",
      "Epoch 7/10\n",
      "242/242 [==============================] - 254s 1s/step - loss: 0.0630 - accuracy: 0.9747 - val_loss: 0.2760 - val_accuracy: 0.9135\n",
      "Epoch 8/10\n",
      "242/242 [==============================] - 257s 1s/step - loss: 0.0572 - accuracy: 0.9781 - val_loss: 0.2717 - val_accuracy: 0.9187\n",
      "Epoch 9/10\n",
      "242/242 [==============================] - 268s 1s/step - loss: 0.0531 - accuracy: 0.9791 - val_loss: 0.2885 - val_accuracy: 0.9187\n",
      "Epoch 10/10\n",
      "242/242 [==============================] - 282s 1s/step - loss: 0.0422 - accuracy: 0.9829 - val_loss: 0.3057 - val_accuracy: 0.9192\n"
     ]
    }
   ],
   "source": [
    "from tensorflow.keras.utils import to_categorical\n",
    "\n",
    "y_train = to_categorical(y_train)\n",
    "y_val = to_categorical(y_val)\n",
    "y_test = to_categorical(y_test)\n",
    "\n",
    "\n",
    "history1 = model1.fit(x_train_pad, y_train, validation_data=(x_val_pad,y_val), epochs=10, batch_size=64)"
   ]
  },
  {
   "cell_type": "code",
   "execution_count": 37,
   "id": "daca4e5e",
   "metadata": {},
   "outputs": [
    {
     "data": {
      "image/png": "[encoded data removed]",
      "text/plain": [
       "<Figure size 640x480 with 1 Axes>"
      ]
     },
     "metadata": {},
     "output_type": "display_data"
    },
    {
     "data": {
      "image/png": "[encoded data removed]",
      "text/plain": [
       "<Figure size 640x480 with 1 Axes>"
      ]
     },
     "metadata": {},
     "output_type": "display_data"
    }
   ],
   "source": [
    "def plot_graphs(history, metric):\n",
    "    plt.plot(history.history[metric])\n",
    "    plt.plot(history.history[f'val_{metric}'])\n",
    "    plt.xlabel(\"Epochs\")\n",
    "    plt.ylabel(metric)\n",
    "    plt.legend([metric, f'val_{metric}'])\n",
    "    plt.show()\n",
    "    \n",
    "plot_graphs(history1, \"accuracy\")\n",
    "plot_graphs(history1, \"loss\")"
   ]
  },
  {
   "cell_type": "code",
   "execution_count": 38,
   "id": "037d4b6a",
   "metadata": {},
   "outputs": [
    {
     "name": "stdout",
     "output_type": "stream",
     "text": [
      "Evaluate on test data\n",
      "61/61 [==============================] - 3s 53ms/step - loss: 0.3126 - accuracy: 0.8987\n",
      "Test loss:0.313 and Test accuracy:90%\n"
     ]
    }
   ],
   "source": [
    "x_test_pad = tokenizer.texts_to_sequences(x_test)\n",
    "x_test_pad = pad_sequences(x_test_pad, padding='post', truncating=\"post\", maxlen=100)\n",
    "\n",
    "#Evaluate the model on the test data using `evaluate`\n",
    "print(\"Evaluate on test data\")\n",
    "t_results = model1.evaluate(x_test_pad , y_test, batch_size=32)\n",
    "\n",
    "print(\"Test loss:{} and Test accuracy:{}%\".format(round(t_results[0], 3), round(t_results[1]*100)))"
   ]
  },
  {
   "cell_type": "code",
   "execution_count": 39,
   "id": "40546073",
   "metadata": {},
   "outputs": [
    {
     "name": "stdout",
     "output_type": "stream",
     "text": [
      "61/61 [==============================] - 3s 44ms/step\n",
      "              precision    recall  f1-score   support\n",
      "\n",
      "           0       0.90      0.97      0.93       538\n",
      "           1       0.92      0.93      0.92       684\n",
      "           2       0.79      0.74      0.76       169\n",
      "           3       0.92      0.83      0.87       305\n",
      "           4       0.90      0.85      0.87       238\n",
      "\n",
      "    accuracy                           0.90      1934\n",
      "   macro avg       0.88      0.86      0.87      1934\n",
      "weighted avg       0.90      0.90      0.90      1934\n",
      "\n"
     ]
    }
   ],
   "source": [
    "y_pred =   np.argmax(model1.predict(x_test_pad), axis=1)\n",
    "y_true = np.argmax(y_test, axis=1)\n",
    "from sklearn import metrics\n",
    "print(metrics.classification_report(y_pred, y_true))"
   ]
  },
  {
   "cell_type": "code",
   "execution_count": null,
   "id": "a90a8055",
   "metadata": {},
   "outputs": [],
   "source": []
  }
 ],
 "metadata": {
  "kernelspec": {
   "display_name": "Python 3 (ipykernel)",
   "language": "python",
   "name": "python3"
  },
  "language_info": {
   "codemirror_mode": {
    "name": "ipython",
    "version": 3
   },
   "file_extension": ".py",
   "mimetype": "text/x-python",
   "name": "python",
   "nbconvert_exporter": "python",
   "pygments_lexer": "ipython3",
   "version": "3.9.13"
  }
 },
 "nbformat": 4,
 "nbformat_minor": 5
}
