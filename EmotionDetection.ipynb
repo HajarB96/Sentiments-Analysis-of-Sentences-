{
 "cells": [
  {
   "cell_type": "code",
   "execution_count": 1,
   "id": "26b2aef4",
   "metadata": {},
   "outputs": [],
   "source": [
    "import numpy as np \n",
    "import pandas as pd\n",
    "import tensorflow as tf\n",
    "from tensorflow import keras\n",
    "import matplotlib\n",
    "import matplotlib.pyplot as plt\n",
    "import seaborn as sns"
   ]
  },
  {
   "cell_type": "code",
   "execution_count": 2,
   "id": "b2648aeb",
   "metadata": {},
   "outputs": [],
   "source": [
    "train = pd.read_csv('C:\\\\Users\\\\hajar\\\\Documents\\\\Data2\\\\training2.csv')\n",
    "validation = pd.read_csv('C:\\\\Users\\\\hajar\\\\Documents\\\\Data2\\\\validation2.csv')\n",
    "test = pd.read_csv('C:\\\\Users\\\\hajar\\\\Documents\\\\Data2\\\\test2.csv')"
   ]
  },
  {
   "cell_type": "code",
   "execution_count": 3,
   "id": "38b4b233",
   "metadata": {},
   "outputs": [
    {
     "name": "stdout",
     "output_type": "stream",
     "text": [
      "                                                text  label\n",
      "0                            i didnt feel humiliated      0\n",
      "1  i can go from feeling so hopeless to so damned...      0\n",
      "2   im grabbing a minute to post i feel greedy wrong      3\n",
      "3  i am ever feeling nostalgic about the fireplac...      2\n",
      "4                               i am feeling grouchy      3\n",
      "                                                text  label\n",
      "0  im feeling quite sad and sorry for myself but ...      0\n",
      "1  i feel like i am still looking at a blank canv...      0\n",
      "2                     i feel like a faithful servant      2\n",
      "3                  i am just feeling cranky and blue      3\n",
      "4  i can have for a treat or if i am feeling festive      1\n",
      "                                                text  label\n",
      "0  im feeling rather rotten so im not very ambiti...      0\n",
      "1          im updating my blog because i feel shitty      0\n",
      "2  i never make her separate from me because i do...      0\n",
      "3  i left with my bouquet of red and yellow tulip...      1\n",
      "4    i was feeling a little vain when i did this one      0\n"
     ]
    }
   ],
   "source": [
    "print(train.head())\n",
    "print(validation.head())\n",
    "print(test.head())"
   ]
  },
  {
   "cell_type": "code",
   "execution_count": 4,
   "id": "1a99580a",
   "metadata": {},
   "outputs": [
    {
     "data": {
      "text/html": [
       "<div>\n",
       "<style scoped>\n",
       "    .dataframe tbody tr th:only-of-type {\n",
       "        vertical-align: middle;\n",
       "    }\n",
       "\n",
       "    .dataframe tbody tr th {\n",
       "        vertical-align: top;\n",
       "    }\n",
       "\n",
       "    .dataframe thead th {\n",
       "        text-align: right;\n",
       "    }\n",
       "</style>\n",
       "<table border=\"1\" class=\"dataframe\">\n",
       "  <thead>\n",
       "    <tr style=\"text-align: right;\">\n",
       "      <th></th>\n",
       "      <th>text</th>\n",
       "      <th>label</th>\n",
       "      <th>description</th>\n",
       "    </tr>\n",
       "  </thead>\n",
       "  <tbody>\n",
       "    <tr>\n",
       "      <th>0</th>\n",
       "      <td>i didnt feel humiliated</td>\n",
       "      <td>0</td>\n",
       "      <td>sadness</td>\n",
       "    </tr>\n",
       "    <tr>\n",
       "      <th>1</th>\n",
       "      <td>i can go from feeling so hopeless to so damned...</td>\n",
       "      <td>0</td>\n",
       "      <td>sadness</td>\n",
       "    </tr>\n",
       "    <tr>\n",
       "      <th>2</th>\n",
       "      <td>im grabbing a minute to post i feel greedy wrong</td>\n",
       "      <td>3</td>\n",
       "      <td>anger</td>\n",
       "    </tr>\n",
       "    <tr>\n",
       "      <th>3</th>\n",
       "      <td>i am ever feeling nostalgic about the fireplac...</td>\n",
       "      <td>2</td>\n",
       "      <td>love</td>\n",
       "    </tr>\n",
       "    <tr>\n",
       "      <th>4</th>\n",
       "      <td>i am feeling grouchy</td>\n",
       "      <td>3</td>\n",
       "      <td>anger</td>\n",
       "    </tr>\n",
       "  </tbody>\n",
       "</table>\n",
       "</div>"
      ],
      "text/plain": [
       "                                                text  label description\n",
       "0                            i didnt feel humiliated      0     sadness\n",
       "1  i can go from feeling so hopeless to so damned...      0     sadness\n",
       "2   im grabbing a minute to post i feel greedy wrong      3       anger\n",
       "3  i am ever feeling nostalgic about the fireplac...      2        love\n",
       "4                               i am feeling grouchy      3       anger"
      ]
     },
     "execution_count": 4,
     "metadata": {},
     "output_type": "execute_result"
    }
   ],
   "source": [
    "labels_dict = {0:'sadness', 1:'joy', 2:'love', 3:'anger', 4:'fear', 5:'surprise'}\n",
    "train['description'] = train['label'].map(labels_dict )\n",
    "train.head()"
   ]
  },
  {
   "cell_type": "code",
   "execution_count": 5,
   "id": "7ff3c1e2",
   "metadata": {},
   "outputs": [
    {
     "data": {
      "text/plain": [
       "joy         0.335125\n",
       "sadness     0.291625\n",
       "anger       0.134937\n",
       "fear        0.121063\n",
       "love        0.081500\n",
       "surprise    0.035750\n",
       "Name: description, dtype: float64"
      ]
     },
     "execution_count": 5,
     "metadata": {},
     "output_type": "execute_result"
    }
   ],
   "source": [
    "train['description'].value_counts(normalize=True)"
   ]
  },
  {
   "cell_type": "code",
   "execution_count": 6,
   "id": "118d6759",
   "metadata": {},
   "outputs": [
    {
     "data": {
      "image/png": "[encoded data removed]",
      "text/plain": [
       "<Figure size 640x480 with 1 Axes>"
      ]
     },
     "metadata": {},
     "output_type": "display_data"
    }
   ],
   "source": [
    "train['description'].value_counts().plot(kind='bar');\n"
   ]
  },
  {
   "cell_type": "code",
   "execution_count": 7,
   "id": "481941a7",
   "metadata": {},
   "outputs": [
    {
     "name": "stdout",
     "output_type": "stream",
     "text": [
      "!\"#$%&'()*+,-./:;<=>?@[\\]^_`{|}~\n"
     ]
    },
    {
     "name": "stderr",
     "output_type": "stream",
     "text": [
      "[nltk_data] Downloading package stopwords to\n",
      "[nltk_data]     C:\\Users\\hajar\\AppData\\Roaming\\nltk_data...\n",
      "[nltk_data]   Package stopwords is already up-to-date!\n"
     ]
    }
   ],
   "source": [
    "import nltk\n",
    "nltk.download('stopwords')\n",
    "from nltk.corpus import stopwords\n",
    "stopwords.words('english')\n",
    "\n",
    "import string\n",
    "print(string.punctuation)"
   ]
  },
  {
   "cell_type": "code",
   "execution_count": 8,
   "id": "9c16704e",
   "metadata": {},
   "outputs": [],
   "source": [
    "def text_cleaning(text):\n",
    "    punctuation_removed = [char for char in text if char not in string.punctuation]\n",
    "    p_join = ''.join(punctuation_removed)\n",
    "    p_join_clean = [word for word in p_join.split() if word.lower() not in stopwords.words('english')]\n",
    "    return p_join_clean\n",
    "\n"
   ]
  },
  {
   "cell_type": "code",
   "execution_count": 9,
   "id": "15d33f86",
   "metadata": {},
   "outputs": [],
   "source": [
    "from tensorflow.keras.preprocessing.text import Tokenizer\n",
    "from tensorflow.keras.preprocessing.sequence import pad_sequences\n"
   ]
  },
  {
   "cell_type": "code",
   "execution_count": 10,
   "id": "c9e2fc53",
   "metadata": {},
   "outputs": [
    {
     "name": "stdout",
     "output_type": "stream",
     "text": [
      "                                                text  label description  \\\n",
      "0                            i didnt feel humiliated      0     sadness   \n",
      "1  i can go from feeling so hopeless to so damned...      0     sadness   \n",
      "2   im grabbing a minute to post i feel greedy wrong      3       anger   \n",
      "3  i am ever feeling nostalgic about the fireplac...      2        love   \n",
      "4                               i am feeling grouchy      3       anger   \n",
      "\n",
      "                                                list  \n",
      "0                          [didnt, feel, humiliated]  \n",
      "1  [go, feeling, hopeless, damned, hopeful, aroun...  \n",
      "2  [im, grabbing, minute, post, feel, greedy, wrong]  \n",
      "3  [ever, feeling, nostalgic, fireplace, know, st...  \n",
      "4                                 [feeling, grouchy]  \n",
      "                                                text  label  \\\n",
      "0  im feeling quite sad and sorry for myself but ...      0   \n",
      "1  i feel like i am still looking at a blank canv...      0   \n",
      "2                     i feel like a faithful servant      2   \n",
      "3                  i am just feeling cranky and blue      3   \n",
      "4  i can have for a treat or if i am feeling festive      1   \n",
      "\n",
      "                                                list  \n",
      "0  [im, feeling, quite, sad, sorry, ill, snap, soon]  \n",
      "1  [feel, like, still, looking, blank, canvas, bl...  \n",
      "2                    [feel, like, faithful, servant]  \n",
      "3                            [feeling, cranky, blue]  \n",
      "4                          [treat, feeling, festive]  \n"
     ]
    }
   ],
   "source": [
    "# Apply text cleaning function to 'text' column of train and validation dataframes\n",
    "train_claining = train['text'].apply(text_cleaning)\n",
    "validation_claining = validation['text'].apply(text_cleaning)\n",
    "\n",
    "# Add a new column called 'list' to train and validation dataframes\n",
    "train['list'] = train_claining\n",
    "validation['list'] = validation_claining\n",
    "\n",
    "# Print the first 5 rows of both dataframes to verify the changes\n",
    "print(train.head())\n",
    "print(validation.head())"
   ]
  },
  {
   "cell_type": "code",
   "execution_count": 11,
   "id": "e0b57f11",
   "metadata": {},
   "outputs": [
    {
     "name": "stdout",
     "output_type": "stream",
     "text": [
      "['ever', 'feeling', 'nostalgic', 'fireplace', 'know', 'still', 'property']\n",
      "['feeling', 'cranky', 'blue']\n",
      "i left with my bouquet of red and yellow tulips under my arm feeling slightly more optimistic than when i arrived\n",
      "(16000,) (16000,)\n",
      "(2000,) (2000,)\n"
     ]
    }
   ],
   "source": [
    "x_train, y_train = train['list'].values, train['label'].values\n",
    "x_val, y_val = validation['list'].values, validation['label'].values\n",
    "x_test, y_test = test['text'].values, test['label'].values\n",
    "\n",
    "print(x_train[3])\n",
    "print(x_val[3])\n",
    "print(x_test[3])\n",
    "\n",
    "print(x_train.shape,y_train.shape)\n",
    "print(x_test.shape,y_test.shape)\n"
   ]
  },
  {
   "cell_type": "code",
   "execution_count": 12,
   "id": "324f0384",
   "metadata": {},
   "outputs": [],
   "source": [
    "max_features = 2000\n",
    "\n",
    "tokenizer = Tokenizer(num_words=max_features, oov_token=\"<OOV>\")\n",
    "tokenizer.fit_on_texts(x_train)\n",
    "x_train_pad = tokenizer.texts_to_sequences(x_train)\n",
    "x_train_pad = pad_sequences(x_train_pad, padding='post', truncating=\"post\", maxlen=100)\n",
    "\n",
    "vocab_size = len(tokenizer.word_index) + 1\n",
    "\n",
    "x_val_pad = tokenizer.texts_to_sequences(x_val)\n",
    "x_val_pad = pad_sequences(x_val_pad, padding='post', truncating=\"post\", maxlen=100)"
   ]
  },
  {
   "cell_type": "code",
   "execution_count": 13,
   "id": "2c86fd40",
   "metadata": {},
   "outputs": [
    {
     "name": "stdout",
     "output_type": "stream",
     "text": [
      "(16000, 100) [ 50   2 563   0   0   0   0   0   0   0   0   0   0   0   0   0   0   0\n",
      "   0   0   0   0   0   0   0   0   0   0   0   0   0   0   0   0   0   0\n",
      "   0   0   0   0   0   0   0   0   0   0   0   0   0   0   0   0   0   0\n",
      "   0   0   0   0   0   0   0   0   0   0   0   0   0   0   0   0   0   0\n",
      "   0   0   0   0   0   0   0   0   0   0   0   0   0   0   0   0   0   0\n",
      "   0   0   0   0   0   0   0   0   0   0]\n",
      "(2000, 100) [  5   3  62 155 234 110   1 420   0   0   0   0   0   0   0   0   0   0\n",
      "   0   0   0   0   0   0   0   0   0   0   0   0   0   0   0   0   0   0\n",
      "   0   0   0   0   0   0   0   0   0   0   0   0   0   0   0   0   0   0\n",
      "   0   0   0   0   0   0   0   0   0   0   0   0   0   0   0   0   0   0\n",
      "   0   0   0   0   0   0   0   0   0   0   0   0   0   0   0   0   0   0\n",
      "   0   0   0   0   0   0   0   0   0   0]\n"
     ]
    }
   ],
   "source": [
    "print(x_train_pad.shape, x_train_pad[0])\n",
    "print(x_val_pad.shape, x_val_pad[0])"
   ]
  },
  {
   "cell_type": "code",
   "execution_count": 14,
   "id": "6c7105ca",
   "metadata": {},
   "outputs": [],
   "source": [
    "from tensorflow.keras import Sequential\n",
    "from tensorflow.keras.models import Model\n",
    "from tensorflow.keras import layers, Input\n",
    "from tensorflow.keras.layers import  Flatten, GlobalMaxPooling1D, Dropout, SpatialDropout1D\n",
    "from tensorflow.keras.layers import Embedding, Dense, LSTM, GRU, Conv1D, Bidirectional,  MaxPooling1D"
   ]
  },
  {
   "cell_type": "code",
   "execution_count": 15,
   "id": "f20d8d80",
   "metadata": {},
   "outputs": [
    {
     "name": "stdout",
     "output_type": "stream",
     "text": [
      "Model: \"sequential\"\n",
      "_________________________________________________________________\n",
      " Layer (type)                Output Shape              Param #   \n",
      "=================================================================\n",
      " embedding (Embedding)       (None, 100, 300)          600000    \n",
      "                                                                 \n",
      " bidirectional (Bidirectiona  (None, 312)              570336    \n",
      " l)                                                              \n",
      "                                                                 \n",
      " flatten (Flatten)           (None, 312)               0         \n",
      "                                                                 \n",
      " dense (Dense)               (None, 128)               40064     \n",
      "                                                                 \n",
      " dropout (Dropout)           (None, 128)               0         \n",
      "                                                                 \n",
      " dense_1 (Dense)             (None, 64)                8256      \n",
      "                                                                 \n",
      " dense_2 (Dense)             (None, 6)                 390       \n",
      "                                                                 \n",
      "=================================================================\n",
      "Total params: 1,219,046\n",
      "Trainable params: 1,219,046\n",
      "Non-trainable params: 0\n",
      "_________________________________________________________________\n",
      "None\n"
     ]
    }
   ],
   "source": [
    "embed_dim = 300\n",
    "\n",
    "model1 = Sequential([\n",
    "    Embedding(max_features, embed_dim, input_length=x_train_pad.shape[1]),\n",
    "    Bidirectional(LSTM(156, dropout=0.2)),\n",
    "    Flatten(),\n",
    "    Dense(128, activation = 'relu'),\n",
    "    Dropout(0.2),\n",
    "    Dense(64, activation = 'relu'),\n",
    "    Dense(6, activation = 'softmax')\n",
    "])\n",
    "print(model1.summary())\n",
    "\n",
    "model1.compile(loss = 'categorical_crossentropy', optimizer='adam', metrics = ['accuracy'])"
   ]
  },
  {
   "cell_type": "code",
   "execution_count": 16,
   "id": "636ed0cc",
   "metadata": {},
   "outputs": [
    {
     "name": "stdout",
     "output_type": "stream",
     "text": [
      "Epoch 1/10\n",
      "250/250 [==============================] - 297s 1s/step - loss: 1.0593 - accuracy: 0.5913 - val_loss: 0.4363 - val_accuracy: 0.8610\n",
      "Epoch 2/10\n",
      "250/250 [==============================] - 308s 1s/step - loss: 0.2787 - accuracy: 0.9041 - val_loss: 0.2627 - val_accuracy: 0.9015\n",
      "Epoch 3/10\n",
      "250/250 [==============================] - 309s 1s/step - loss: 0.1705 - accuracy: 0.9367 - val_loss: 0.2546 - val_accuracy: 0.9125\n",
      "Epoch 4/10\n",
      "250/250 [==============================] - 310s 1s/step - loss: 0.1315 - accuracy: 0.9489 - val_loss: 0.2530 - val_accuracy: 0.9130\n",
      "Epoch 5/10\n",
      "250/250 [==============================] - 315s 1s/step - loss: 0.1149 - accuracy: 0.9555 - val_loss: 0.2780 - val_accuracy: 0.9155\n",
      "Epoch 6/10\n",
      "250/250 [==============================] - 317s 1s/step - loss: 0.0968 - accuracy: 0.9604 - val_loss: 0.2467 - val_accuracy: 0.9185\n",
      "Epoch 7/10\n",
      "250/250 [==============================] - 313s 1s/step - loss: 0.0833 - accuracy: 0.9668 - val_loss: 0.2993 - val_accuracy: 0.9135\n",
      "Epoch 8/10\n",
      "250/250 [==============================] - 312s 1s/step - loss: 0.0705 - accuracy: 0.9726 - val_loss: 0.3187 - val_accuracy: 0.9100\n",
      "Epoch 9/10\n",
      "250/250 [==============================] - 317s 1s/step - loss: 0.0740 - accuracy: 0.9714 - val_loss: 0.2829 - val_accuracy: 0.9150\n",
      "Epoch 10/10\n",
      "250/250 [==============================] - 320s 1s/step - loss: 0.0537 - accuracy: 0.9783 - val_loss: 0.3505 - val_accuracy: 0.9095\n"
     ]
    }
   ],
   "source": [
    "from tensorflow.keras.utils import to_categorical\n",
    "\n",
    "y_train = to_categorical(y_train)\n",
    "y_val = to_categorical(y_val)\n",
    "y_test = to_categorical(y_test)\n",
    "\n",
    "history1 = model1.fit(x_train_pad, y_train, validation_data=(x_val_pad,y_val), epochs=10, batch_size=64)"
   ]
  },
  {
   "cell_type": "code",
   "execution_count": 17,
   "id": "daca4e5e",
   "metadata": {},
   "outputs": [
    {
     "data": {
      "image/png": "[encoded data removed]",
      "text/plain": [
       "<Figure size 640x480 with 1 Axes>"
      ]
     },
     "metadata": {},
     "output_type": "display_data"
    },
    {
     "data": {
      "image/png": "[encoded data removed]",
      "text/plain": [
       "<Figure size 640x480 with 1 Axes>"
      ]
     },
     "metadata": {},
     "output_type": "display_data"
    }
   ],
   "source": [
    "def plot_graphs(history, metric):\n",
    "    plt.plot(history.history[metric])\n",
    "    plt.plot(history.history[f'val_{metric}'])\n",
    "    plt.xlabel(\"Epochs\")\n",
    "    plt.ylabel(metric)\n",
    "    plt.legend([metric, f'val_{metric}'])\n",
    "    plt.show()\n",
    "    \n",
    "plot_graphs(history1, \"accuracy\")\n",
    "plot_graphs(history1, \"loss\")"
   ]
  },
  {
   "cell_type": "code",
   "execution_count": 18,
   "id": "037d4b6a",
   "metadata": {},
   "outputs": [
    {
     "name": "stdout",
     "output_type": "stream",
     "text": [
      "Evaluate on test data\n",
      "63/63 [==============================] - 4s 57ms/step - loss: 0.4561 - accuracy: 0.8875\n",
      "Test loss:0.456 and Test accuracy:89%\n"
     ]
    }
   ],
   "source": [
    "x_test_pad = tokenizer.texts_to_sequences(x_test)\n",
    "x_test_pad = pad_sequences(x_test_pad, padding='post', truncating=\"post\", maxlen=100)\n",
    "\n",
    "#Evaluate the model on the test data using `evaluate`\n",
    "print(\"Evaluate on test data\")\n",
    "t_results = model1.evaluate(x_test_pad , y_test, batch_size=32)\n",
    "\n",
    "print(\"Test loss:{} and Test accuracy:{}%\".format(round(t_results[0], 3), round(t_results[1]*100)))"
   ]
  },
  {
   "cell_type": "code",
   "execution_count": 19,
   "id": "40546073",
   "metadata": {},
   "outputs": [
    {
     "name": "stdout",
     "output_type": "stream",
     "text": [
      "63/63 [==============================] - 4s 46ms/step\n",
      "              precision    recall  f1-score   support\n",
      "\n",
      "           0       0.96      0.92      0.94       603\n",
      "           1       0.88      0.96      0.92       642\n",
      "           2       0.79      0.74      0.76       168\n",
      "           3       0.95      0.78      0.86       337\n",
      "           4       0.77      0.91      0.84       190\n",
      "           5       0.70      0.77      0.73        60\n",
      "\n",
      "    accuracy                           0.89      2000\n",
      "   macro avg       0.84      0.85      0.84      2000\n",
      "weighted avg       0.89      0.89      0.89      2000\n",
      "\n"
     ]
    }
   ],
   "source": [
    "y_pred =   np.argmax(model1.predict(x_test_pad), axis=1)\n",
    "y_true = np.argmax(y_test, axis=1)\n",
    "from sklearn import metrics\n",
    "print(metrics.classification_report(y_pred, y_true))"
   ]
  },
  {
   "cell_type": "code",
   "execution_count": null,
   "id": "a90a8055",
   "metadata": {},
   "outputs": [],
   "source": []
  }
 ],
 "metadata": {
  "kernelspec": {
   "display_name": "Python 3 (ipykernel)",
   "language": "python",
   "name": "python3"
  },
  "language_info": {
   "codemirror_mode": {
    "name": "ipython",
    "version": 3
   },
   "file_extension": ".py",
   "mimetype": "text/x-python",
   "name": "python",
   "nbconvert_exporter": "python",
   "pygments_lexer": "ipython3",
   "version": "3.9.13"
  }
 },
 "nbformat": 4,
 "nbformat_minor": 5
}
